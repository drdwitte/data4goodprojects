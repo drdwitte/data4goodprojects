{
 "cells": [
  {
   "cell_type": "code",
   "execution_count": 1,
   "metadata": {
    "collapsed": true
   },
   "outputs": [],
   "source": [
    "import json\n",
    "import pandas as pd"
   ]
  },
  {
   "cell_type": "code",
   "execution_count": 2,
   "metadata": {
    "collapsed": false
   },
   "outputs": [
    {
     "data": {
      "text/html": [
       "<div>\n",
       "<table border=\"1\" class=\"dataframe\">\n",
       "  <thead>\n",
       "    <tr style=\"text-align: right;\">\n",
       "      <th></th>\n",
       "      <th>city</th>\n",
       "      <th>name</th>\n",
       "      <th>street</th>\n",
       "      <th>tags</th>\n",
       "      <th>zipcode</th>\n",
       "      <th>full_address</th>\n",
       "      <th>latlon</th>\n",
       "      <th>missing</th>\n",
       "    </tr>\n",
       "  </thead>\n",
       "  <tbody>\n",
       "    <tr>\n",
       "      <th>0</th>\n",
       "      <td>Neerijse</td>\n",
       "      <td>Biesbemd</td>\n",
       "      <td>Kamstraat 33</td>\n",
       "      <td>['Approved by EVA', 'EVA voordeel', 'Veganvrie...</td>\n",
       "      <td>3040</td>\n",
       "      <td>Kamstraat 33 3040 Neerijse</td>\n",
       "      <td>(50.8127340562564, 4.622892881244533)</td>\n",
       "      <td>False</td>\n",
       "    </tr>\n",
       "    <tr>\n",
       "      <th>1</th>\n",
       "      <td>Antwerpen</td>\n",
       "      <td>Falafel Shami</td>\n",
       "      <td>Hoogstraat 47</td>\n",
       "      <td>['Snack', '100% vegetarisch', 'Approved by EVA...</td>\n",
       "      <td>2000</td>\n",
       "      <td>Hoogstraat 47 2000 Antwerpen</td>\n",
       "      <td>(51.21912277399896, 4.39791278664577)</td>\n",
       "      <td>False</td>\n",
       "    </tr>\n",
       "    <tr>\n",
       "      <th>2</th>\n",
       "      <td>Antwerpen</td>\n",
       "      <td>Falafel Tof</td>\n",
       "      <td>Hoogstraat 32</td>\n",
       "      <td>['Eethuis', 'Snack', '100% vegetarisch', 'Appr...</td>\n",
       "      <td>2000</td>\n",
       "      <td>Hoogstraat 32 2000 Antwerpen</td>\n",
       "      <td>(51.219967595445304, 4.398256839416387)</td>\n",
       "      <td>False</td>\n",
       "    </tr>\n",
       "    <tr>\n",
       "      <th>3</th>\n",
       "      <td>Antwerpen</td>\n",
       "      <td>Falafeltof</td>\n",
       "      <td>Hoogstraat 32</td>\n",
       "      <td>['Snack', '100% vegetarisch', 'Approved by EVA...</td>\n",
       "      <td>2000</td>\n",
       "      <td>Hoogstraat 32 2000 Antwerpen</td>\n",
       "      <td>(51.219967595445304, 4.398256839416387)</td>\n",
       "      <td>False</td>\n",
       "    </tr>\n",
       "    <tr>\n",
       "      <th>4</th>\n",
       "      <td>Deurle</td>\n",
       "      <td>Markies de Salade</td>\n",
       "      <td>Xavier de Cocklaan 69</td>\n",
       "      <td>['Eethuis', '100% plantaardig', '100% vegetari...</td>\n",
       "      <td>9831</td>\n",
       "      <td>Xavier de Cocklaan 69 9831 Deurle</td>\n",
       "      <td>(51.00079815695149, 3.614998033550879)</td>\n",
       "      <td>False</td>\n",
       "    </tr>\n",
       "  </tbody>\n",
       "</table>\n",
       "</div>"
      ],
      "text/plain": [
       "        city               name                 street  \\\n",
       "0   Neerijse           Biesbemd           Kamstraat 33   \n",
       "1  Antwerpen      Falafel Shami          Hoogstraat 47   \n",
       "2  Antwerpen        Falafel Tof          Hoogstraat 32   \n",
       "3  Antwerpen         Falafeltof          Hoogstraat 32   \n",
       "4     Deurle  Markies de Salade  Xavier de Cocklaan 69   \n",
       "\n",
       "                                                tags  zipcode  \\\n",
       "0  ['Approved by EVA', 'EVA voordeel', 'Veganvrie...     3040   \n",
       "1  ['Snack', '100% vegetarisch', 'Approved by EVA...     2000   \n",
       "2  ['Eethuis', 'Snack', '100% vegetarisch', 'Appr...     2000   \n",
       "3  ['Snack', '100% vegetarisch', 'Approved by EVA...     2000   \n",
       "4  ['Eethuis', '100% plantaardig', '100% vegetari...     9831   \n",
       "\n",
       "                        full_address                                   latlon  \\\n",
       "0         Kamstraat 33 3040 Neerijse    (50.8127340562564, 4.622892881244533)   \n",
       "1       Hoogstraat 47 2000 Antwerpen    (51.21912277399896, 4.39791278664577)   \n",
       "2       Hoogstraat 32 2000 Antwerpen  (51.219967595445304, 4.398256839416387)   \n",
       "3       Hoogstraat 32 2000 Antwerpen  (51.219967595445304, 4.398256839416387)   \n",
       "4  Xavier de Cocklaan 69 9831 Deurle   (51.00079815695149, 3.614998033550879)   \n",
       "\n",
       "  missing  \n",
       "0   False  \n",
       "1   False  \n",
       "2   False  \n",
       "3   False  \n",
       "4   False  "
      ]
     },
     "execution_count": 2,
     "metadata": {},
     "output_type": "execute_result"
    }
   ],
   "source": [
    "dataset = pd.read_csv('EVA_restoswithlocationsANDfixes.csv')\n",
    "dataset.head(n=5)"
   ]
  },
  {
   "cell_type": "code",
   "execution_count": 5,
   "metadata": {
    "collapsed": false
   },
   "outputs": [
    {
     "data": {
      "text/plain": [
       "(0, 8)"
      ]
     },
     "execution_count": 5,
     "metadata": {},
     "output_type": "execute_result"
    }
   ],
   "source": [
    "dataset[dataset['missing'] == True].shape"
   ]
  },
  {
   "cell_type": "code",
   "execution_count": 11,
   "metadata": {
    "collapsed": false
   },
   "outputs": [],
   "source": [
    "interesting_cols = ['city', 'name', 'street', 'tags', 'zipcode', 'latlon']\n",
    "dataset = dataset[interesting_cols]"
   ]
  },
  {
   "cell_type": "code",
   "execution_count": 13,
   "metadata": {
    "collapsed": false
   },
   "outputs": [
    {
     "data": {
      "text/html": [
       "<div>\n",
       "<table border=\"1\" class=\"dataframe\">\n",
       "  <thead>\n",
       "    <tr style=\"text-align: right;\">\n",
       "      <th></th>\n",
       "      <th>city</th>\n",
       "      <th>name</th>\n",
       "      <th>street</th>\n",
       "      <th>tags</th>\n",
       "      <th>zipcode</th>\n",
       "      <th>latlon</th>\n",
       "    </tr>\n",
       "  </thead>\n",
       "  <tbody>\n",
       "    <tr>\n",
       "      <th>0</th>\n",
       "      <td>Neerijse</td>\n",
       "      <td>Biesbemd</td>\n",
       "      <td>Kamstraat 33</td>\n",
       "      <td>['Approved by EVA', 'EVA voordeel', 'Veganvrie...</td>\n",
       "      <td>3040</td>\n",
       "      <td>(50.8127340562564, 4.622892881244533)</td>\n",
       "    </tr>\n",
       "    <tr>\n",
       "      <th>1</th>\n",
       "      <td>Antwerpen</td>\n",
       "      <td>Falafel Shami</td>\n",
       "      <td>Hoogstraat 47</td>\n",
       "      <td>['Snack', '100% vegetarisch', 'Approved by EVA...</td>\n",
       "      <td>2000</td>\n",
       "      <td>(51.21912277399896, 4.39791278664577)</td>\n",
       "    </tr>\n",
       "    <tr>\n",
       "      <th>2</th>\n",
       "      <td>Antwerpen</td>\n",
       "      <td>Falafel Tof</td>\n",
       "      <td>Hoogstraat 32</td>\n",
       "      <td>['Eethuis', 'Snack', '100% vegetarisch', 'Appr...</td>\n",
       "      <td>2000</td>\n",
       "      <td>(51.219967595445304, 4.398256839416387)</td>\n",
       "    </tr>\n",
       "  </tbody>\n",
       "</table>\n",
       "</div>"
      ],
      "text/plain": [
       "        city           name         street  \\\n",
       "0   Neerijse       Biesbemd   Kamstraat 33   \n",
       "1  Antwerpen  Falafel Shami  Hoogstraat 47   \n",
       "2  Antwerpen    Falafel Tof  Hoogstraat 32   \n",
       "\n",
       "                                                tags  zipcode  \\\n",
       "0  ['Approved by EVA', 'EVA voordeel', 'Veganvrie...     3040   \n",
       "1  ['Snack', '100% vegetarisch', 'Approved by EVA...     2000   \n",
       "2  ['Eethuis', 'Snack', '100% vegetarisch', 'Appr...     2000   \n",
       "\n",
       "                                    latlon  \n",
       "0    (50.8127340562564, 4.622892881244533)  \n",
       "1    (51.21912277399896, 4.39791278664577)  \n",
       "2  (51.219967595445304, 4.398256839416387)  "
      ]
     },
     "execution_count": 13,
     "metadata": {},
     "output_type": "execute_result"
    }
   ],
   "source": [
    "dataset.head(n=3)"
   ]
  },
  {
   "cell_type": "code",
   "execution_count": 18,
   "metadata": {
    "collapsed": false
   },
   "outputs": [],
   "source": [
    "dataset['lat'] = dataset['latlon'].apply(lambda l: l[1:len(l)-1].split(',')[0])\n",
    "dataset['lon'] = dataset['latlon'].apply(lambda l: l[1:len(l)-1].split(',')[1])"
   ]
  },
  {
   "cell_type": "code",
   "execution_count": 20,
   "metadata": {
    "collapsed": true
   },
   "outputs": [],
   "source": [
    "interesting_cols = ['city', 'name', 'street', 'tags', 'zipcode', 'lat', 'lon']\n",
    "dataset = dataset[interesting_cols]"
   ]
  },
  {
   "cell_type": "code",
   "execution_count": 24,
   "metadata": {
    "collapsed": false
   },
   "outputs": [],
   "source": [
    "tempfile = 'testjsonrestos.json'\n",
    "dataset.to_json(tempfile, orient='records')\n"
   ]
  },
  {
   "cell_type": "code",
   "execution_count": 26,
   "metadata": {
    "collapsed": false
   },
   "outputs": [],
   "source": [
    "data = []\n",
    "with open(tempfile) as f:\n",
    "    for line in f:\n",
    "        data.append(json.loads(line))"
   ]
  },
  {
   "cell_type": "code",
   "execution_count": 46,
   "metadata": {
    "collapsed": false
   },
   "outputs": [],
   "source": [
    "records = data[0]\n",
    "\n",
    "parsedRecs = []\n",
    "\n",
    "for rec in records:\n",
    "    testObj = {\n",
    "        'city'   : rec['city'],\n",
    "        'lat'    : float(rec['lat']),\n",
    "        'lon'    : float(rec['lon']),\n",
    "        'name'   : rec['name'],\n",
    "        'street' : rec['street'],\n",
    "        'tags'   : eval(rec['tags']),\n",
    "        'zip'    : rec['zipcode']\n",
    "    }\n",
    "    \n",
    "    parsedRecs.append(testObj)\n",
    "    "
   ]
  },
  {
   "cell_type": "code",
   "execution_count": 49,
   "metadata": {
    "collapsed": false
   },
   "outputs": [],
   "source": [
    "with open('restodata.json', 'w') as outfile:\n",
    "    json.dump(parsedRecs, outfile, sort_keys=True, indent=4, separators=(',', ':'))\n"
   ]
  },
  {
   "cell_type": "code",
   "execution_count": 42,
   "metadata": {
    "collapsed": false
   },
   "outputs": [
    {
     "name": "stdout",
     "output_type": "stream",
     "text": [
      "['Approved by EVA', 'EVA voordeel', 'Veganvriendelijk']\n"
     ]
    }
   ],
   "source": [
    "testobj = {}\n",
    "testobj['city']"
   ]
  },
  {
   "cell_type": "code",
   "execution_count": null,
   "metadata": {
    "collapsed": true
   },
   "outputs": [],
   "source": []
  },
  {
   "cell_type": "code",
   "execution_count": null,
   "metadata": {
    "collapsed": true
   },
   "outputs": [],
   "source": []
  },
  {
   "cell_type": "code",
   "execution_count": null,
   "metadata": {
    "collapsed": true
   },
   "outputs": [],
   "source": []
  },
  {
   "cell_type": "code",
   "execution_count": null,
   "metadata": {
    "collapsed": true
   },
   "outputs": [],
   "source": [
    "json.dumps(, sort_keys=True, indent=2, separators=(',', ': '))"
   ]
  }
 ],
 "metadata": {
  "kernelspec": {
   "display_name": "Python 3",
   "language": "python",
   "name": "python3"
  },
  "language_info": {
   "codemirror_mode": {
    "name": "ipython",
    "version": 3
   },
   "file_extension": ".py",
   "mimetype": "text/x-python",
   "name": "python",
   "nbconvert_exporter": "python",
   "pygments_lexer": "ipython3",
   "version": "3.4.3"
  }
 },
 "nbformat": 4,
 "nbformat_minor": 0
}
