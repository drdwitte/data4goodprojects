{
 "cells": [
  {
   "cell_type": "markdown",
   "metadata": {},
   "source": [
    "# Get requests to Flemish geolocation service\n",
    "\n",
    "https://docs.python.org/3.1/howto/urllib2.html"
   ]
  },
  {
   "cell_type": "code",
   "execution_count": 1,
   "metadata": {
    "collapsed": false
   },
   "outputs": [],
   "source": [
    "import urllib.request\n",
    "import urllib.parse\n",
    "import json"
   ]
  },
  {
   "cell_type": "markdown",
   "metadata": {},
   "source": [
    "### Details about api if of geopunt\n",
    "* http://loc.geopunt.be/Help/Api/GET-v2-Location_q_latlon_xy_capakey_poi_c\n",
    "\n",
    "* international, have a look here: http://www.latlong.net/"
   ]
  },
  {
   "cell_type": "code",
   "execution_count": 2,
   "metadata": {
    "collapsed": true
   },
   "outputs": [],
   "source": [
    "def latlon_from_address(address):\n",
    "      \n",
    "    url = 'http://loc.geopunt.be/v2/Location?'\n",
    "    \n",
    "    #strip spaces for more robustness\n",
    "    values = {'q' : address.strip()}\n",
    "    \n",
    "    data = urllib.parse.urlencode(values)\n",
    "\n",
    "    #get request is url + data\n",
    "    #for POST request you need data.encode('utf8') first and use binary_data as a second arg instead of a '+'\n",
    "    req = urllib.request.Request(url + data)\n",
    "    \n",
    "    req.add_header('Content-Type', 'text/json')\n",
    "    response = urllib.request.urlopen(req)\n",
    "    binary_response = response.read()\n",
    "    decoded = binary_response.decode('utf8')\n",
    "    \n",
    "    response.close()\n",
    "\n",
    "    jsonobj = json.loads(decoded)\n",
    "    \n",
    "    results = jsonobj['LocationResult']\n",
    "    \n",
    "    if len(results) == 0:\n",
    "        return None\n",
    "    \n",
    "    location = results[0]['Location']\n",
    "\n",
    "    latkeyID = 'Lat_WGS84'\n",
    "    lonkeyID = 'Lon_WGS84'\n",
    "    \n",
    "    return (location[latkeyID], location[lonkeyID])\n",
    "        \n"
   ]
  },
  {
   "cell_type": "code",
   "execution_count": 3,
   "metadata": {
    "collapsed": false
   },
   "outputs": [
    {
     "name": "stdout",
     "output_type": "stream",
     "text": [
      "(51.06302363494435, 3.38665410746602)\n"
     ]
    }
   ],
   "source": [
    "print(latlon_from_address('Ruiselede '))"
   ]
  },
  {
   "cell_type": "code",
   "execution_count": 4,
   "metadata": {
    "collapsed": true
   },
   "outputs": [],
   "source": [
    "import pandas as pd"
   ]
  },
  {
   "cell_type": "code",
   "execution_count": 5,
   "metadata": {
    "collapsed": false
   },
   "outputs": [],
   "source": [
    "all_data =  pd.read_json('EVA_restodata.json')"
   ]
  },
  {
   "cell_type": "code",
   "execution_count": 6,
   "metadata": {
    "collapsed": false
   },
   "outputs": [
    {
     "data": {
      "text/html": [
       "<div>\n",
       "<table border=\"1\" class=\"dataframe\">\n",
       "  <thead>\n",
       "    <tr style=\"text-align: right;\">\n",
       "      <th></th>\n",
       "      <th>city</th>\n",
       "      <th>name</th>\n",
       "      <th>street</th>\n",
       "      <th>tags</th>\n",
       "      <th>zipcode</th>\n",
       "    </tr>\n",
       "  </thead>\n",
       "  <tbody>\n",
       "    <tr>\n",
       "      <th>0</th>\n",
       "      <td>Neerijse</td>\n",
       "      <td>Biesbemd</td>\n",
       "      <td>Kamstraat 33</td>\n",
       "      <td>[Approved by EVA, EVA voordeel, Veganvriendelijk]</td>\n",
       "      <td>3040</td>\n",
       "    </tr>\n",
       "    <tr>\n",
       "      <th>1</th>\n",
       "      <td>Antwerpen</td>\n",
       "      <td>Falafel Shami</td>\n",
       "      <td>Hoogstraat 47</td>\n",
       "      <td>[Snack, 100% vegetarisch, Approved by EVA, Veg...</td>\n",
       "      <td>2000</td>\n",
       "    </tr>\n",
       "    <tr>\n",
       "      <th>2</th>\n",
       "      <td>Antwerpen</td>\n",
       "      <td>Falafel Tof</td>\n",
       "      <td>Hoogstraat 32</td>\n",
       "      <td>[Eethuis, Snack, 100% vegetarisch, Approved by...</td>\n",
       "      <td>2000</td>\n",
       "    </tr>\n",
       "  </tbody>\n",
       "</table>\n",
       "</div>"
      ],
      "text/plain": [
       "        city           name         street  \\\n",
       "0   Neerijse       Biesbemd   Kamstraat 33   \n",
       "1  Antwerpen  Falafel Shami  Hoogstraat 47   \n",
       "2  Antwerpen    Falafel Tof  Hoogstraat 32   \n",
       "\n",
       "                                                tags zipcode  \n",
       "0  [Approved by EVA, EVA voordeel, Veganvriendelijk]    3040  \n",
       "1  [Snack, 100% vegetarisch, Approved by EVA, Veg...    2000  \n",
       "2  [Eethuis, Snack, 100% vegetarisch, Approved by...    2000  "
      ]
     },
     "execution_count": 6,
     "metadata": {},
     "output_type": "execute_result"
    }
   ],
   "source": [
    "all_data.head(n=3)"
   ]
  },
  {
   "cell_type": "code",
   "execution_count": 7,
   "metadata": {
    "collapsed": true
   },
   "outputs": [],
   "source": [
    "tags = pd.read_json('EVA_tags.json')"
   ]
  },
  {
   "cell_type": "code",
   "execution_count": 8,
   "metadata": {
    "collapsed": false
   },
   "outputs": [
    {
     "data": {
      "text/html": [
       "<div>\n",
       "<table border=\"1\" class=\"dataframe\">\n",
       "  <thead>\n",
       "    <tr style=\"text-align: right;\">\n",
       "      <th></th>\n",
       "      <th>tag</th>\n",
       "    </tr>\n",
       "  </thead>\n",
       "  <tbody>\n",
       "    <tr>\n",
       "      <th>0</th>\n",
       "      <td>Eethuis</td>\n",
       "    </tr>\n",
       "    <tr>\n",
       "      <th>1</th>\n",
       "      <td>EVA voordeel</td>\n",
       "    </tr>\n",
       "    <tr>\n",
       "      <th>2</th>\n",
       "      <td>100% vegetarisch</td>\n",
       "    </tr>\n",
       "    <tr>\n",
       "      <th>3</th>\n",
       "      <td>Snack</td>\n",
       "    </tr>\n",
       "    <tr>\n",
       "      <th>4</th>\n",
       "      <td>Cateraar</td>\n",
       "    </tr>\n",
       "  </tbody>\n",
       "</table>\n",
       "</div>"
      ],
      "text/plain": [
       "                tag\n",
       "0           Eethuis\n",
       "1      EVA voordeel\n",
       "2  100% vegetarisch\n",
       "3             Snack\n",
       "4          Cateraar"
      ]
     },
     "execution_count": 8,
     "metadata": {},
     "output_type": "execute_result"
    }
   ],
   "source": [
    "tags.head()"
   ]
  },
  {
   "cell_type": "code",
   "execution_count": 9,
   "metadata": {
    "collapsed": false
   },
   "outputs": [],
   "source": [
    "all_data['full_address'] = all_data['street'] + ' ' + all_data['zipcode'] + ' ' + all_data['city']"
   ]
  },
  {
   "cell_type": "code",
   "execution_count": 10,
   "metadata": {
    "collapsed": false
   },
   "outputs": [],
   "source": [
    "all_data['latlon'] = all_data['full_address'].apply(lambda l: latlon_from_address(l))"
   ]
  },
  {
   "cell_type": "code",
   "execution_count": 11,
   "metadata": {
    "collapsed": false
   },
   "outputs": [],
   "source": [
    "all_data['found']=all_data['latlon'].apply(lambda p: p is None)\n",
    "all_data.rename(columns={'found':'missing'}, inplace=True)"
   ]
  },
  {
   "cell_type": "code",
   "execution_count": 30,
   "metadata": {
    "collapsed": true
   },
   "outputs": [],
   "source": [
    "all_data.to_csv('EVA_restoswithlocations.csv', index=False)"
   ]
  }
 ],
 "metadata": {
  "kernelspec": {
   "display_name": "Python 3",
   "language": "python",
   "name": "python3"
  },
  "language_info": {
   "codemirror_mode": {
    "name": "ipython",
    "version": 3
   },
   "file_extension": ".py",
   "mimetype": "text/x-python",
   "name": "python",
   "nbconvert_exporter": "python",
   "pygments_lexer": "ipython3",
   "version": "3.4.3"
  }
 },
 "nbformat": 4,
 "nbformat_minor": 0
}
