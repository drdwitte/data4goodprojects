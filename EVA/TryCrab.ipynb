{
 "cells": [
  {
   "cell_type": "markdown",
   "metadata": {},
   "source": [
    "# Get requests to Flemish geolocation service\n",
    "\n",
    "https://docs.python.org/3.1/howto/urllib2.html"
   ]
  },
  {
   "cell_type": "code",
   "execution_count": 57,
   "metadata": {
    "collapsed": false
   },
   "outputs": [],
   "source": [
    "import urllib.request\n",
    "import urllib.parse\n",
    "import json"
   ]
  },
  {
   "cell_type": "markdown",
   "metadata": {},
   "source": [
    "### Details about api if of geopunt\n",
    "* http://loc.geopunt.be/Help/Api/GET-v2-Location_q_latlon_xy_capakey_poi_c\n",
    "\n",
    "* international, have a look here: http://www.latlong.net/"
   ]
  },
  {
   "cell_type": "code",
   "execution_count": 58,
   "metadata": {
    "collapsed": true
   },
   "outputs": [],
   "source": [
    "def latlon_from_address(address):\n",
    "      \n",
    "    url = 'http://loc.geopunt.be/v2/Location?'\n",
    "    \n",
    "    #strip spaces for more robustness\n",
    "    values = {'q' : address.strip()}\n",
    "    \n",
    "    data = urllib.parse.urlencode(values)\n",
    "\n",
    "    #get request is url + data\n",
    "    #for POST request you need data.encode('utf8') first and use binary_data as a second arg instead of a '+'\n",
    "    req = urllib.request.Request(url + data)\n",
    "    \n",
    "    req.add_header('Content-Type', 'text/json')\n",
    "    response = urllib.request.urlopen(req)\n",
    "    binary_response = response.read()\n",
    "    decoded = binary_response.decode('utf8')\n",
    "    \n",
    "    response.close()\n",
    "\n",
    "    jsonobj = json.loads(decoded)\n",
    "    \n",
    "    results = jsonobj['LocationResult']\n",
    "    \n",
    "    if len(results) == 0:\n",
    "        return None\n",
    "    \n",
    "    location = results[0]['Location']\n",
    "\n",
    "    latkeyID = 'Lat_WGS84'\n",
    "    lonkeyID = 'Lon_WGS84'\n",
    "    \n",
    "    return (location[latkeyID], location[lonkeyID])\n",
    "        \n"
   ]
  },
  {
   "cell_type": "code",
   "execution_count": 59,
   "metadata": {
    "collapsed": false
   },
   "outputs": [
    {
     "name": "stdout",
     "output_type": "stream",
     "text": [
      "(51.06302363494435, 3.38665410746602)\n"
     ]
    }
   ],
   "source": [
    "print(latlon_from_address('Ruiselede '))"
   ]
  },
  {
   "cell_type": "code",
   "execution_count": 60,
   "metadata": {
    "collapsed": true
   },
   "outputs": [],
   "source": [
    "import pandas as pd"
   ]
  },
  {
   "cell_type": "code",
   "execution_count": 61,
   "metadata": {
    "collapsed": false
   },
   "outputs": [],
   "source": [
    "all_data =  pd.read_json('EVA_restodata.json')"
   ]
  },
  {
   "cell_type": "code",
   "execution_count": 62,
   "metadata": {
    "collapsed": false
   },
   "outputs": [
    {
     "data": {
      "text/html": [
       "<div>\n",
       "<table border=\"1\" class=\"dataframe\">\n",
       "  <thead>\n",
       "    <tr style=\"text-align: right;\">\n",
       "      <th></th>\n",
       "      <th>city</th>\n",
       "      <th>name</th>\n",
       "      <th>street</th>\n",
       "      <th>tags</th>\n",
       "      <th>zipcode</th>\n",
       "    </tr>\n",
       "  </thead>\n",
       "  <tbody>\n",
       "    <tr>\n",
       "      <th>0</th>\n",
       "      <td>Neerijse</td>\n",
       "      <td>Biesbemd</td>\n",
       "      <td>Kamstraat 33</td>\n",
       "      <td>[Approved by EVA, EVA voordeel, Veganvriendelijk]</td>\n",
       "      <td>3040</td>\n",
       "    </tr>\n",
       "    <tr>\n",
       "      <th>1</th>\n",
       "      <td>Antwerpen</td>\n",
       "      <td>Falafel Shami</td>\n",
       "      <td>Hoogstraat 47</td>\n",
       "      <td>[Snack, 100% vegetarisch, Approved by EVA, Veg...</td>\n",
       "      <td>2000</td>\n",
       "    </tr>\n",
       "    <tr>\n",
       "      <th>2</th>\n",
       "      <td>Antwerpen</td>\n",
       "      <td>Falafel Tof</td>\n",
       "      <td>Hoogstraat 32</td>\n",
       "      <td>[Eethuis, Snack, 100% vegetarisch, Approved by...</td>\n",
       "      <td>2000</td>\n",
       "    </tr>\n",
       "  </tbody>\n",
       "</table>\n",
       "</div>"
      ],
      "text/plain": [
       "        city           name         street  \\\n",
       "0   Neerijse       Biesbemd   Kamstraat 33   \n",
       "1  Antwerpen  Falafel Shami  Hoogstraat 47   \n",
       "2  Antwerpen    Falafel Tof  Hoogstraat 32   \n",
       "\n",
       "                                                tags zipcode  \n",
       "0  [Approved by EVA, EVA voordeel, Veganvriendelijk]    3040  \n",
       "1  [Snack, 100% vegetarisch, Approved by EVA, Veg...    2000  \n",
       "2  [Eethuis, Snack, 100% vegetarisch, Approved by...    2000  "
      ]
     },
     "execution_count": 62,
     "metadata": {},
     "output_type": "execute_result"
    }
   ],
   "source": [
    "all_data.head(n=3)"
   ]
  },
  {
   "cell_type": "code",
   "execution_count": 63,
   "metadata": {
    "collapsed": true
   },
   "outputs": [],
   "source": [
    "tags = pd.read_json('EVA_tags.json')"
   ]
  },
  {
   "cell_type": "code",
   "execution_count": 64,
   "metadata": {
    "collapsed": false
   },
   "outputs": [
    {
     "data": {
      "text/html": [
       "<div>\n",
       "<table border=\"1\" class=\"dataframe\">\n",
       "  <thead>\n",
       "    <tr style=\"text-align: right;\">\n",
       "      <th></th>\n",
       "      <th>tag</th>\n",
       "    </tr>\n",
       "  </thead>\n",
       "  <tbody>\n",
       "    <tr>\n",
       "      <th>0</th>\n",
       "      <td>Eethuis</td>\n",
       "    </tr>\n",
       "    <tr>\n",
       "      <th>1</th>\n",
       "      <td>EVA voordeel</td>\n",
       "    </tr>\n",
       "    <tr>\n",
       "      <th>2</th>\n",
       "      <td>100% vegetarisch</td>\n",
       "    </tr>\n",
       "    <tr>\n",
       "      <th>3</th>\n",
       "      <td>Snack</td>\n",
       "    </tr>\n",
       "    <tr>\n",
       "      <th>4</th>\n",
       "      <td>Cateraar</td>\n",
       "    </tr>\n",
       "  </tbody>\n",
       "</table>\n",
       "</div>"
      ],
      "text/plain": [
       "                tag\n",
       "0           Eethuis\n",
       "1      EVA voordeel\n",
       "2  100% vegetarisch\n",
       "3             Snack\n",
       "4          Cateraar"
      ]
     },
     "execution_count": 64,
     "metadata": {},
     "output_type": "execute_result"
    }
   ],
   "source": [
    "tags.head()"
   ]
  },
  {
   "cell_type": "code",
   "execution_count": 65,
   "metadata": {
    "collapsed": false
   },
   "outputs": [],
   "source": [
    "all_data['full_address'] = all_data['street'] + ' ' + all_data['zipcode'] + ' ' + all_data['city']"
   ]
  },
  {
   "cell_type": "code",
   "execution_count": 66,
   "metadata": {
    "collapsed": false
   },
   "outputs": [],
   "source": [
    "all_data['latlon'] = all_data['full_address'].apply(lambda l: latlon_from_address(l))"
   ]
  },
  {
   "cell_type": "code",
   "execution_count": 71,
   "metadata": {
    "collapsed": false
   },
   "outputs": [],
   "source": [
    "all_data['found']=all_data['latlon'].apply(lambda p: p is None)\n",
    "all_data.rename(columns={'found':'missing'}, inplace=True)"
   ]
  },
  {
   "cell_type": "code",
   "execution_count": 74,
   "metadata": {
    "collapsed": false
   },
   "outputs": [],
   "source": [
    "df_notfound = all_data[all_data['missing']]"
   ]
  },
  {
   "cell_type": "code",
   "execution_count": 129,
   "metadata": {
    "collapsed": false
   },
   "outputs": [
    {
     "name": "stdout",
     "output_type": "stream",
     "text": [
      "(91, 8)\n",
      "(735, 8)\n"
     ]
    }
   ],
   "source": [
    "print(df_notfound.shape)\n",
    "print(all_data.shape)\n"
   ]
  },
  {
   "cell_type": "code",
   "execution_count": 96,
   "metadata": {
    "collapsed": false
   },
   "outputs": [
    {
     "name": "stdout",
     "output_type": "stream",
     "text": [
      "city\n",
      "name\n",
      "street\n",
      "tags\n",
      "zipcode\n",
      "full_address\n",
      "latlon\n",
      "missing\n",
      "None\n",
      "(51.218385351929605, 4.399357877940981)\n"
     ]
    }
   ],
   "source": [
    "print(latlon_from_address('Leeuwestraat 23 2000 Antwerpen'))\n",
    "print(latlon_from_address('Leeuwenstraat 23 2000 Antwerpen'))"
   ]
  },
  {
   "cell_type": "code",
   "execution_count": 103,
   "metadata": {
    "collapsed": false
   },
   "outputs": [
    {
     "data": {
      "text/html": [
       "<div>\n",
       "<table border=\"1\" class=\"dataframe\">\n",
       "  <thead>\n",
       "    <tr style=\"text-align: right;\">\n",
       "      <th></th>\n",
       "      <th>city</th>\n",
       "      <th>name</th>\n",
       "      <th>street</th>\n",
       "      <th>tags</th>\n",
       "      <th>zipcode</th>\n",
       "      <th>full_address</th>\n",
       "      <th>latlon</th>\n",
       "      <th>missing</th>\n",
       "    </tr>\n",
       "  </thead>\n",
       "  <tbody>\n",
       "    <tr>\n",
       "      <th>7</th>\n",
       "      <td>Baal</td>\n",
       "      <td>The Vexican</td>\n",
       "      <td>C. Huysmansstraat 126</td>\n",
       "      <td>[Cateraar, Snack, 100% vegetarisch, Approved b...</td>\n",
       "      <td>3128</td>\n",
       "      <td>C. Huysmansstraat 126 3128 Baal</td>\n",
       "      <td>None</td>\n",
       "      <td>True</td>\n",
       "    </tr>\n",
       "    <tr>\n",
       "      <th>16</th>\n",
       "      <td>Antwerpen</td>\n",
       "      <td>'t Koekebakske</td>\n",
       "      <td>Leeuwestraat 23</td>\n",
       "      <td>[Eethuis, EVA voordeel]</td>\n",
       "      <td>2000</td>\n",
       "      <td>Leeuwestraat 23 2000 Antwerpen</td>\n",
       "      <td>None</td>\n",
       "      <td>True</td>\n",
       "    </tr>\n",
       "    <tr>\n",
       "      <th>24</th>\n",
       "      <td>Ieper</td>\n",
       "      <td>Agadir</td>\n",
       "      <td>Rijselsestraat 42</td>\n",
       "      <td>[Eethuis, Snack]</td>\n",
       "      <td>8900</td>\n",
       "      <td>Rijselsestraat 42 8900 Ieper</td>\n",
       "      <td>None</td>\n",
       "      <td>True</td>\n",
       "    </tr>\n",
       "    <tr>\n",
       "      <th>32</th>\n",
       "      <td>Wetteren</td>\n",
       "      <td>Amuz&amp;Vous</td>\n",
       "      <td>V. Van Sandelaan 33</td>\n",
       "      <td>[Cateraar]</td>\n",
       "      <td>9230</td>\n",
       "      <td>V. Van Sandelaan 33 9230 Wetteren</td>\n",
       "      <td>None</td>\n",
       "      <td>True</td>\n",
       "    </tr>\n",
       "    <tr>\n",
       "      <th>46</th>\n",
       "      <td>Waregem</td>\n",
       "      <td>BAOBAB Catering</td>\n",
       "      <td>Mirakelstraat 104A, 8790 Waregem</td>\n",
       "      <td>[Cateraar]</td>\n",
       "      <td>8790</td>\n",
       "      <td>Mirakelstraat 104A, 8790 Waregem 8790 Waregem</td>\n",
       "      <td>None</td>\n",
       "      <td>True</td>\n",
       "    </tr>\n",
       "  </tbody>\n",
       "</table>\n",
       "</div>"
      ],
      "text/plain": [
       "         city             name                            street  \\\n",
       "7        Baal      The Vexican             C. Huysmansstraat 126   \n",
       "16  Antwerpen   't Koekebakske                   Leeuwestraat 23   \n",
       "24      Ieper           Agadir                 Rijselsestraat 42   \n",
       "32   Wetteren        Amuz&Vous               V. Van Sandelaan 33   \n",
       "46    Waregem  BAOBAB Catering  Mirakelstraat 104A, 8790 Waregem   \n",
       "\n",
       "                                                 tags zipcode  \\\n",
       "7   [Cateraar, Snack, 100% vegetarisch, Approved b...    3128   \n",
       "16                            [Eethuis, EVA voordeel]    2000   \n",
       "24                                   [Eethuis, Snack]    8900   \n",
       "32                                         [Cateraar]    9230   \n",
       "46                                         [Cateraar]    8790   \n",
       "\n",
       "                                     full_address latlon missing  \n",
       "7                 C. Huysmansstraat 126 3128 Baal   None    True  \n",
       "16                 Leeuwestraat 23 2000 Antwerpen   None    True  \n",
       "24                   Rijselsestraat 42 8900 Ieper   None    True  \n",
       "32              V. Van Sandelaan 33 9230 Wetteren   None    True  \n",
       "46  Mirakelstraat 104A, 8790 Waregem 8790 Waregem   None    True  "
      ]
     },
     "execution_count": 103,
     "metadata": {},
     "output_type": "execute_result"
    }
   ],
   "source": [
    "df_notfound[0:5]"
   ]
  },
  {
   "cell_type": "code",
   "execution_count": 119,
   "metadata": {
    "collapsed": false
   },
   "outputs": [
    {
     "name": "stdout",
     "output_type": "stream",
     "text": [
      "None\n",
      "(50.99981171485267, 4.749558921517834)\n",
      "None\n",
      "(51.218385351929605, 4.399357877940981)\n",
      "None\n",
      "(50.849543772226255, 2.8863381665928447)\n",
      "None\n",
      "(51.00217297024971, 3.8875914088732486)\n",
      "None\n",
      "(50.870729494598294, 3.397632962878593)\n"
     ]
    }
   ],
   "source": [
    "# afkorting, spelfout, spelfout, afkorting, dubbele komma\n",
    "print(latlon_from_address('Camille Huysmansstraat 126 3128 Tremelo'))\n",
    "print(latlon_from_address('Leeuwenstraat 23 2000 Antwerpen'))\n",
    "print(latlon_from_address('Rijselstraat 42 8900 Ieper'))\n",
    "print(latlon_from_address('Victor Van Sandelaan 33 9230 Wetteren'))\n",
    "print(latlon_from_address('Mirakelstraat 104A 8790 Waregem'))"
   ]
  },
  {
   "cell_type": "code",
   "execution_count": 120,
   "metadata": {
    "collapsed": false
   },
   "outputs": [
    {
     "data": {
      "text/html": [
       "<div>\n",
       "<table border=\"1\" class=\"dataframe\">\n",
       "  <thead>\n",
       "    <tr style=\"text-align: right;\">\n",
       "      <th></th>\n",
       "      <th>city</th>\n",
       "      <th>name</th>\n",
       "      <th>street</th>\n",
       "      <th>tags</th>\n",
       "      <th>zipcode</th>\n",
       "      <th>full_address</th>\n",
       "      <th>latlon</th>\n",
       "      <th>missing</th>\n",
       "    </tr>\n",
       "  </thead>\n",
       "  <tbody>\n",
       "    <tr>\n",
       "      <th>62</th>\n",
       "      <td>Sint-Niklaas</td>\n",
       "      <td>Biko</td>\n",
       "      <td>Sacramentstraat 3</td>\n",
       "      <td>[Eethuis, Snack]</td>\n",
       "      <td>9100</td>\n",
       "      <td>Sacramentstraat 3 9100 Sint-Niklaas</td>\n",
       "      <td>None</td>\n",
       "      <td>True</td>\n",
       "    </tr>\n",
       "    <tr>\n",
       "      <th>68</th>\n",
       "      <td>Aalst</td>\n",
       "      <td>Black and White</td>\n",
       "      <td>Koostraat 107</td>\n",
       "      <td>[Eethuis]</td>\n",
       "      <td>9300</td>\n",
       "      <td>Koostraat 107 9300  Aalst</td>\n",
       "      <td>None</td>\n",
       "      <td>True</td>\n",
       "    </tr>\n",
       "    <tr>\n",
       "      <th>81</th>\n",
       "      <td>Oostende</td>\n",
       "      <td>Brasserie Buyl</td>\n",
       "      <td>A. Buylstraat 44B</td>\n",
       "      <td>[Eethuis]</td>\n",
       "      <td>8400</td>\n",
       "      <td>A. Buylstraat 44B 8400 Oostende</td>\n",
       "      <td>None</td>\n",
       "      <td>True</td>\n",
       "    </tr>\n",
       "    <tr>\n",
       "      <th>91</th>\n",
       "      <td>Gent</td>\n",
       "      <td>Café De Kleine Kunst</td>\n",
       "      <td>Lousbergkaai 99</td>\n",
       "      <td>[Eethuis, EVA voordeel]</td>\n",
       "      <td>9000</td>\n",
       "      <td>Lousbergkaai 99 9000 Gent</td>\n",
       "      <td>None</td>\n",
       "      <td>True</td>\n",
       "    </tr>\n",
       "    <tr>\n",
       "      <th>98</th>\n",
       "      <td>Gent</td>\n",
       "      <td>Café Parti</td>\n",
       "      <td>Maria-Hendrikaplein 65a</td>\n",
       "      <td>[Eethuis, Veganvriendelijk]</td>\n",
       "      <td>9000</td>\n",
       "      <td>Maria-Hendrikaplein 65a 9000 Gent</td>\n",
       "      <td>None</td>\n",
       "      <td>True</td>\n",
       "    </tr>\n",
       "  </tbody>\n",
       "</table>\n",
       "</div>"
      ],
      "text/plain": [
       "            city                  name                   street  \\\n",
       "62  Sint-Niklaas                  Biko        Sacramentstraat 3   \n",
       "68         Aalst       Black and White            Koostraat 107   \n",
       "81      Oostende        Brasserie Buyl        A. Buylstraat 44B   \n",
       "91          Gent  Café De Kleine Kunst          Lousbergkaai 99   \n",
       "98          Gent            Café Parti  Maria-Hendrikaplein 65a   \n",
       "\n",
       "                           tags zipcode                         full_address  \\\n",
       "62             [Eethuis, Snack]    9100  Sacramentstraat 3 9100 Sint-Niklaas   \n",
       "68                    [Eethuis]    9300            Koostraat 107 9300  Aalst   \n",
       "81                    [Eethuis]    8400      A. Buylstraat 44B 8400 Oostende   \n",
       "91      [Eethuis, EVA voordeel]    9000            Lousbergkaai 99 9000 Gent   \n",
       "98  [Eethuis, Veganvriendelijk]    9000    Maria-Hendrikaplein 65a 9000 Gent   \n",
       "\n",
       "   latlon missing  \n",
       "62   None    True  \n",
       "68   None    True  \n",
       "81   None    True  \n",
       "91   None    True  \n",
       "98   None    True  "
      ]
     },
     "execution_count": 120,
     "metadata": {},
     "output_type": "execute_result"
    }
   ],
   "source": [
    "df_notfound[5:10]"
   ]
  },
  {
   "cell_type": "code",
   "execution_count": 128,
   "metadata": {
    "collapsed": false
   },
   "outputs": [
    {
     "name": "stdout",
     "output_type": "stream",
     "text": [
      "(51.16461233026816, 4.142836540827675)\n",
      "(50.939983118445085, 4.02898384827834)\n",
      "(51.23115235995707, 2.9150036519826585)\n",
      "(51.04753532194943, 3.7392711886277534)\n",
      "(51.036379827654144, 3.7161672129454875)\n"
     ]
    }
   ],
   "source": [
    "#spelfout, spelfout, afkorting, prefix, prefix\n",
    "print(latlon_from_address('Sacramentsstraat 3 9100 Sint-Niklaas'))\n",
    "print(latlon_from_address('Koolstraat 107 9300 Aalst'))\n",
    "print(latlon_from_address('Adolf Buylstraat 44B 8400 Oostende'))\n",
    "print(latlon_from_address('Ferdinand Lousbergkaai 99 9000 Gent'))\n",
    "print(latlon_from_address('Koningin Maria-Hendrikaplein 65a 9000 Gent'))"
   ]
  },
  {
   "cell_type": "code",
   "execution_count": 130,
   "metadata": {
    "collapsed": false
   },
   "outputs": [
    {
     "data": {
      "text/html": [
       "<div>\n",
       "<table border=\"1\" class=\"dataframe\">\n",
       "  <thead>\n",
       "    <tr style=\"text-align: right;\">\n",
       "      <th></th>\n",
       "      <th>city</th>\n",
       "      <th>name</th>\n",
       "      <th>street</th>\n",
       "      <th>tags</th>\n",
       "      <th>zipcode</th>\n",
       "      <th>full_address</th>\n",
       "      <th>latlon</th>\n",
       "      <th>missing</th>\n",
       "    </tr>\n",
       "  </thead>\n",
       "  <tbody>\n",
       "    <tr>\n",
       "      <th>100</th>\n",
       "      <td>Brussel</td>\n",
       "      <td>Cafeabc</td>\n",
       "      <td>Phillippe de Champagnestraat 23</td>\n",
       "      <td>[Eethuis, Snack]</td>\n",
       "      <td>1000</td>\n",
       "      <td>Phillippe de Champagnestraat 23 1000 Brussel</td>\n",
       "      <td>None</td>\n",
       "      <td>True</td>\n",
       "    </tr>\n",
       "    <tr>\n",
       "      <th>124</th>\n",
       "      <td>Drogenbos</td>\n",
       "      <td>Cook-Om</td>\n",
       "      <td>Rue Marie Collart</td>\n",
       "      <td>[Eethuis, EVA voordeel, Veganvriendelijk]</td>\n",
       "      <td>1620</td>\n",
       "      <td>Rue Marie Collart 1620 Drogenbos</td>\n",
       "      <td>None</td>\n",
       "      <td>True</td>\n",
       "    </tr>\n",
       "    <tr>\n",
       "      <th>128</th>\n",
       "      <td>Elsene</td>\n",
       "      <td>Crêperie au p’tit Breton</td>\n",
       "      <td>Amerikaansestraat 117</td>\n",
       "      <td>[Snack]</td>\n",
       "      <td>1050</td>\n",
       "      <td>Amerikaansestraat 117 1050 Elsene</td>\n",
       "      <td>None</td>\n",
       "      <td>True</td>\n",
       "    </tr>\n",
       "    <tr>\n",
       "      <th>132</th>\n",
       "      <td>Mechelen</td>\n",
       "      <td>d'Afspraak</td>\n",
       "      <td>Keizeerstraat 23</td>\n",
       "      <td>[Eethuis]</td>\n",
       "      <td>2800</td>\n",
       "      <td>Keizeerstraat 23 2800 Mechelen</td>\n",
       "      <td>None</td>\n",
       "      <td>True</td>\n",
       "    </tr>\n",
       "    <tr>\n",
       "      <th>139</th>\n",
       "      <td>Wellen</td>\n",
       "      <td>De Bottelarij</td>\n",
       "      <td>Ulbeekstraat 21</td>\n",
       "      <td>[Eethuis]</td>\n",
       "      <td>3830</td>\n",
       "      <td>Ulbeekstraat 21 3830 Wellen</td>\n",
       "      <td>None</td>\n",
       "      <td>True</td>\n",
       "    </tr>\n",
       "  </tbody>\n",
       "</table>\n",
       "</div>"
      ],
      "text/plain": [
       "          city                      name                           street  \\\n",
       "100    Brussel                   Cafeabc  Phillippe de Champagnestraat 23   \n",
       "124  Drogenbos                   Cook-Om                Rue Marie Collart   \n",
       "128     Elsene  Crêperie au p’tit Breton            Amerikaansestraat 117   \n",
       "132   Mechelen                d'Afspraak                 Keizeerstraat 23   \n",
       "139     Wellen             De Bottelarij                  Ulbeekstraat 21   \n",
       "\n",
       "                                          tags zipcode  \\\n",
       "100                           [Eethuis, Snack]    1000   \n",
       "124  [Eethuis, EVA voordeel, Veganvriendelijk]    1620   \n",
       "128                                    [Snack]    1050   \n",
       "132                                  [Eethuis]    2800   \n",
       "139                                  [Eethuis]    3830   \n",
       "\n",
       "                                     full_address latlon missing  \n",
       "100  Phillippe de Champagnestraat 23 1000 Brussel   None    True  \n",
       "124              Rue Marie Collart 1620 Drogenbos   None    True  \n",
       "128             Amerikaansestraat 117 1050 Elsene   None    True  \n",
       "132                Keizeerstraat 23 2800 Mechelen   None    True  \n",
       "139                   Ulbeekstraat 21 3830 Wellen   None    True  "
      ]
     },
     "execution_count": 130,
     "metadata": {},
     "output_type": "execute_result"
    }
   ],
   "source": [
    "df_notfound[10:15]"
   ]
  },
  {
   "cell_type": "code",
   "execution_count": 139,
   "metadata": {
    "collapsed": false
   },
   "outputs": [
    {
     "name": "stdout",
     "output_type": "stream",
     "text": [
      "(50.84314226758593, 4.347341194697616)\n",
      "(50.78156305645173, 4.31661255727227)\n",
      "(50.82249491537016, 4.361301054768735)\n",
      "(51.0290618159853, 4.488280080616929)\n",
      "(50.84097654956267, 5.308105034230186)\n"
     ]
    }
   ],
   "source": [
    "# spelfout, fr/nl, fr/nl, spelfout, postcode\n",
    "print(latlon_from_address('Philippe de Champagnestraat 23 1000 Brussel'))\n",
    "print(latlon_from_address('Marie Collartstraat 1620 Drogenbos'))\n",
    "print(latlon_from_address('Rue Américaine 117 1050 Elsene'))\n",
    "print(latlon_from_address('Keizerstraat 23 2800 Mechelen'))\n",
    "print(latlon_from_address('Ulbeekstraat 21 3832 Wellen'))\n"
   ]
  },
  {
   "cell_type": "code",
   "execution_count": 140,
   "metadata": {
    "collapsed": false
   },
   "outputs": [
    {
     "data": {
      "text/html": [
       "<div>\n",
       "<table border=\"1\" class=\"dataframe\">\n",
       "  <thead>\n",
       "    <tr style=\"text-align: right;\">\n",
       "      <th></th>\n",
       "      <th>city</th>\n",
       "      <th>name</th>\n",
       "      <th>street</th>\n",
       "      <th>tags</th>\n",
       "      <th>zipcode</th>\n",
       "      <th>full_address</th>\n",
       "      <th>latlon</th>\n",
       "      <th>missing</th>\n",
       "    </tr>\n",
       "  </thead>\n",
       "  <tbody>\n",
       "    <tr>\n",
       "      <th>140</th>\n",
       "      <td>Brugge</td>\n",
       "      <td>De Bottelier</td>\n",
       "      <td>St.Jacobsstraat 63</td>\n",
       "      <td>[Eethuis]</td>\n",
       "      <td>8000</td>\n",
       "      <td>St.Jacobsstraat 63 8000 Brugge</td>\n",
       "      <td>None</td>\n",
       "      <td>True</td>\n",
       "    </tr>\n",
       "    <tr>\n",
       "      <th>147</th>\n",
       "      <td>Leuven</td>\n",
       "      <td>De Dijlemolens</td>\n",
       "      <td>Zwarte zustersstraat 16/4</td>\n",
       "      <td>[Eethuis]</td>\n",
       "      <td>3000</td>\n",
       "      <td>Zwarte zustersstraat 16/4 3000  Leuven</td>\n",
       "      <td>None</td>\n",
       "      <td>True</td>\n",
       "    </tr>\n",
       "    <tr>\n",
       "      <th>153</th>\n",
       "      <td>Sint-Pieters-Rode</td>\n",
       "      <td>De Gelaarsde Kat</td>\n",
       "      <td>Gobbelsrode 68a</td>\n",
       "      <td>[Eethuis]</td>\n",
       "      <td>3320</td>\n",
       "      <td>Gobbelsrode 68a 3320 Sint-Pieters-Rode</td>\n",
       "      <td>None</td>\n",
       "      <td>True</td>\n",
       "    </tr>\n",
       "    <tr>\n",
       "      <th>161</th>\n",
       "      <td>nvriendelijk</td>\n",
       "      <td>De Grote post</td>\n",
       "      <td>Eethuis</td>\n",
       "      <td>[]</td>\n",
       "      <td>Vega</td>\n",
       "      <td>Eethuis Vega nvriendelijk</td>\n",
       "      <td>None</td>\n",
       "      <td>True</td>\n",
       "    </tr>\n",
       "    <tr>\n",
       "      <th>163</th>\n",
       "      <td>Brugge - Sint Kruis</td>\n",
       "      <td>De Jonkman</td>\n",
       "      <td>Maaltsesteenweg 438</td>\n",
       "      <td>[Gastronomisch, Veganvriendelijk]</td>\n",
       "      <td>8310</td>\n",
       "      <td>Maaltsesteenweg 438 8310 Brugge - Sint Kruis</td>\n",
       "      <td>None</td>\n",
       "      <td>True</td>\n",
       "    </tr>\n",
       "  </tbody>\n",
       "</table>\n",
       "</div>"
      ],
      "text/plain": [
       "                    city              name                     street  \\\n",
       "140               Brugge      De Bottelier         St.Jacobsstraat 63   \n",
       "147               Leuven    De Dijlemolens  Zwarte zustersstraat 16/4   \n",
       "153    Sint-Pieters-Rode  De Gelaarsde Kat            Gobbelsrode 68a   \n",
       "161         nvriendelijk     De Grote post                    Eethuis   \n",
       "163  Brugge - Sint Kruis        De Jonkman        Maaltsesteenweg 438   \n",
       "\n",
       "                                  tags zipcode  \\\n",
       "140                          [Eethuis]    8000   \n",
       "147                          [Eethuis]    3000   \n",
       "153                          [Eethuis]    3320   \n",
       "161                                 []    Vega   \n",
       "163  [Gastronomisch, Veganvriendelijk]    8310   \n",
       "\n",
       "                                     full_address latlon missing  \n",
       "140                St.Jacobsstraat 63 8000 Brugge   None    True  \n",
       "147        Zwarte zustersstraat 16/4 3000  Leuven   None    True  \n",
       "153        Gobbelsrode 68a 3320 Sint-Pieters-Rode   None    True  \n",
       "161                     Eethuis Vega nvriendelijk   None    True  \n",
       "163  Maaltsesteenweg 438 8310 Brugge - Sint Kruis   None    True  "
      ]
     },
     "execution_count": 140,
     "metadata": {},
     "output_type": "execute_result"
    }
   ],
   "source": [
    "df_notfound[15:20]"
   ]
  },
  {
   "cell_type": "code",
   "execution_count": 189,
   "metadata": {
    "collapsed": false
   },
   "outputs": [
    {
     "name": "stdout",
     "output_type": "stream",
     "text": [
      "(51.20801546511949, 3.2228642331128525)\n",
      "(50.87305970607464, 4.696587161773074)\n",
      "(50.915747648372886, 4.807520754675542)\n",
      "None\n",
      "(51.20768556028524, 3.2782982449692675)\n"
     ]
    }
   ],
   "source": [
    "# afkorting+spelfouten, spelfout, stad,  bad record, contractie\n",
    "print(latlon_from_address('Sint Jakobstraat 63 8000 Brugge'))\n",
    "print(latlon_from_address('Zwartzustersstraat 16 3000 Leuven'))\n",
    "print(latlon_from_address('Gobbelsrode 68a 3220 Holsbeek'))\n",
    "print(latlon_from_address(''))\n",
    "print(latlon_from_address('Maalse Steenweg 438 8310 Brugge-Sint Kruis'))\n"
   ]
  },
  {
   "cell_type": "code",
   "execution_count": 190,
   "metadata": {
    "collapsed": false
   },
   "outputs": [
    {
     "data": {
      "text/html": [
       "<div>\n",
       "<table border=\"1\" class=\"dataframe\">\n",
       "  <thead>\n",
       "    <tr style=\"text-align: right;\">\n",
       "      <th></th>\n",
       "      <th>city</th>\n",
       "      <th>name</th>\n",
       "      <th>street</th>\n",
       "      <th>tags</th>\n",
       "      <th>zipcode</th>\n",
       "      <th>full_address</th>\n",
       "      <th>latlon</th>\n",
       "      <th>missing</th>\n",
       "    </tr>\n",
       "  </thead>\n",
       "  <tbody>\n",
       "    <tr>\n",
       "      <th>167</th>\n",
       "      <td>Rumbeke</td>\n",
       "      <td>De Kleine Prins</td>\n",
       "      <td>Rijstelstraat 5</td>\n",
       "      <td>[Eethuis]</td>\n",
       "      <td>8800</td>\n",
       "      <td>Rijstelstraat 5 8800 Rumbeke</td>\n",
       "      <td>None</td>\n",
       "      <td>True</td>\n",
       "    </tr>\n",
       "    <tr>\n",
       "      <th>172</th>\n",
       "      <td>Vorst, Kempen</td>\n",
       "      <td>De Kruimel</td>\n",
       "      <td>Dikstraat 3</td>\n",
       "      <td>[Eethuis]</td>\n",
       "      <td>2430</td>\n",
       "      <td>Dikstraat 3 2430 Vorst, Kempen</td>\n",
       "      <td>None</td>\n",
       "      <td>True</td>\n",
       "    </tr>\n",
       "    <tr>\n",
       "      <th>189</th>\n",
       "      <td>Kortrijk</td>\n",
       "      <td>De Promenade</td>\n",
       "      <td>Veemlarkt 30</td>\n",
       "      <td>[Eethuis, Snack]</td>\n",
       "      <td>8500</td>\n",
       "      <td>Veemlarkt 30 8500 Kortrijk</td>\n",
       "      <td>None</td>\n",
       "      <td>True</td>\n",
       "    </tr>\n",
       "    <tr>\n",
       "      <th>192</th>\n",
       "      <td>Brugge</td>\n",
       "      <td>De Republiek</td>\n",
       "      <td>St. Jacobsstraat 36</td>\n",
       "      <td>[Eethuis, Snack]</td>\n",
       "      <td>8000</td>\n",
       "      <td>St. Jacobsstraat 36 8000 Brugge</td>\n",
       "      <td>None</td>\n",
       "      <td>True</td>\n",
       "    </tr>\n",
       "    <tr>\n",
       "      <th>194</th>\n",
       "      <td>Zoutenaaie</td>\n",
       "      <td>De Reygaerd</td>\n",
       "      <td>Reygaerddijkstraat 22</td>\n",
       "      <td>[Eethuis]</td>\n",
       "      <td>8630</td>\n",
       "      <td>Reygaerddijkstraat 22 8630 Zoutenaaie</td>\n",
       "      <td>None</td>\n",
       "      <td>True</td>\n",
       "    </tr>\n",
       "  </tbody>\n",
       "</table>\n",
       "</div>"
      ],
      "text/plain": [
       "              city             name                 street              tags  \\\n",
       "167        Rumbeke  De Kleine Prins        Rijstelstraat 5         [Eethuis]   \n",
       "172  Vorst, Kempen       De Kruimel            Dikstraat 3         [Eethuis]   \n",
       "189       Kortrijk     De Promenade           Veemlarkt 30  [Eethuis, Snack]   \n",
       "192         Brugge     De Republiek    St. Jacobsstraat 36  [Eethuis, Snack]   \n",
       "194     Zoutenaaie      De Reygaerd  Reygaerddijkstraat 22         [Eethuis]   \n",
       "\n",
       "    zipcode                           full_address latlon missing  \n",
       "167    8800           Rijstelstraat 5 8800 Rumbeke   None    True  \n",
       "172    2430         Dikstraat 3 2430 Vorst, Kempen   None    True  \n",
       "189    8500             Veemlarkt 30 8500 Kortrijk   None    True  \n",
       "192    8000        St. Jacobsstraat 36 8000 Brugge   None    True  \n",
       "194    8630  Reygaerddijkstraat 22 8630 Zoutenaaie   None    True  "
      ]
     },
     "execution_count": 190,
     "metadata": {},
     "output_type": "execute_result"
    }
   ],
   "source": [
    "df_notfound[20:25]"
   ]
  },
  {
   "cell_type": "code",
   "execution_count": 196,
   "metadata": {
    "collapsed": false
   },
   "outputs": [
    {
     "name": "stdout",
     "output_type": "stream",
     "text": [
      "(50.940853119308244, 3.123873800952088)\n",
      "(51.08777822444371, 5.0689052810212445)\n",
      "(50.82624906812174, 3.2734970141452155)\n",
      "(51.20801546511949, 3.2228642331128525)\n",
      "(51.06465342677114, 2.7307744620794177)\n"
     ]
    }
   ],
   "source": [
    "print(latlon_from_address('Rijselstraat 5 8800 Rumbeke'))\n",
    "print(latlon_from_address('Dikstraat 3 2430 Laakdal'))\n",
    "print(latlon_from_address('Veemarkt 30 8500 Kortrijk'))\n",
    "print(latlon_from_address('Sint Jacobsstraat 36 8000 Brugge'))\n",
    "print(latlon_from_address('Reygaerdijkstraat 22 8630 Zoutenaaie'))\n"
   ]
  },
  {
   "cell_type": "code",
   "execution_count": 197,
   "metadata": {
    "collapsed": false
   },
   "outputs": [
    {
     "data": {
      "text/html": [
       "<div>\n",
       "<table border=\"1\" class=\"dataframe\">\n",
       "  <thead>\n",
       "    <tr style=\"text-align: right;\">\n",
       "      <th></th>\n",
       "      <th>city</th>\n",
       "      <th>name</th>\n",
       "      <th>street</th>\n",
       "      <th>tags</th>\n",
       "      <th>zipcode</th>\n",
       "      <th>full_address</th>\n",
       "      <th>latlon</th>\n",
       "      <th>missing</th>\n",
       "    </tr>\n",
       "  </thead>\n",
       "  <tbody>\n",
       "    <tr>\n",
       "      <th>197</th>\n",
       "      <td>Stokrooie</td>\n",
       "      <td>De Stroobander</td>\n",
       "      <td>St. Jozefsplein 13</td>\n",
       "      <td>[Eethuis]</td>\n",
       "      <td>3511</td>\n",
       "      <td>St. Jozefsplein 13 3511 Stokrooie</td>\n",
       "      <td>None</td>\n",
       "      <td>True</td>\n",
       "    </tr>\n",
       "    <tr>\n",
       "      <th>201</th>\n",
       "      <td>Gent</td>\n",
       "      <td>De Walrus</td>\n",
       "      <td>Coupure Links 497,</td>\n",
       "      <td>[Eethuis]</td>\n",
       "      <td>9000</td>\n",
       "      <td>Coupure Links 497, 9000 Gent</td>\n",
       "      <td>None</td>\n",
       "      <td>True</td>\n",
       "    </tr>\n",
       "    <tr>\n",
       "      <th>224</th>\n",
       "      <td>Hasselt</td>\n",
       "      <td>Double Dragons</td>\n",
       "      <td>Hasseltweg 214</td>\n",
       "      <td>[Eethuis]</td>\n",
       "      <td>3500</td>\n",
       "      <td>Hasseltweg 214 3500 Hasselt</td>\n",
       "      <td>None</td>\n",
       "      <td>True</td>\n",
       "    </tr>\n",
       "    <tr>\n",
       "      <th>232</th>\n",
       "      <td>Oostende</td>\n",
       "      <td>El Mariachi</td>\n",
       "      <td>Kapucijnestraat 44</td>\n",
       "      <td>[Eethuis]</td>\n",
       "      <td>8400</td>\n",
       "      <td>Kapucijnestraat 44 8400 Oostende</td>\n",
       "      <td>None</td>\n",
       "      <td>True</td>\n",
       "    </tr>\n",
       "    <tr>\n",
       "      <th>239</th>\n",
       "      <td>Sint-Maria-Horebeke</td>\n",
       "      <td>Elim</td>\n",
       "      <td>Dorpstraat 30</td>\n",
       "      <td>[Eethuis]</td>\n",
       "      <td>9667</td>\n",
       "      <td>Dorpstraat 30 9667 Sint-Maria-Horebeke</td>\n",
       "      <td>None</td>\n",
       "      <td>True</td>\n",
       "    </tr>\n",
       "  </tbody>\n",
       "</table>\n",
       "</div>"
      ],
      "text/plain": [
       "                    city            name              street       tags  \\\n",
       "197            Stokrooie  De Stroobander  St. Jozefsplein 13  [Eethuis]   \n",
       "201                 Gent       De Walrus  Coupure Links 497,  [Eethuis]   \n",
       "224              Hasselt  Double Dragons      Hasseltweg 214  [Eethuis]   \n",
       "232             Oostende     El Mariachi  Kapucijnestraat 44  [Eethuis]   \n",
       "239  Sint-Maria-Horebeke            Elim       Dorpstraat 30  [Eethuis]   \n",
       "\n",
       "    zipcode                            full_address latlon missing  \n",
       "197    3511       St. Jozefsplein 13 3511 Stokrooie   None    True  \n",
       "201    9000            Coupure Links 497, 9000 Gent   None    True  \n",
       "224    3500             Hasseltweg 214 3500 Hasselt   None    True  \n",
       "232    8400        Kapucijnestraat 44 8400 Oostende   None    True  \n",
       "239    9667  Dorpstraat 30 9667 Sint-Maria-Horebeke   None    True  "
      ]
     },
     "execution_count": 197,
     "metadata": {},
     "output_type": "execute_result"
    }
   ],
   "source": [
    "df_notfound[25:30]"
   ]
  },
  {
   "cell_type": "code",
   "execution_count": 203,
   "metadata": {
    "collapsed": false
   },
   "outputs": [
    {
     "name": "stdout",
     "output_type": "stream",
     "text": [
      "(50.966124160569926, 5.279991265198184)\n",
      "(51.055719748430406, 3.7087946627413633)\n",
      "(50.94450048610327, 5.361322843381503)\n",
      "(51.233991155864814, 2.9177648388281234)\n",
      "(50.83845885800066, 3.688273556090574)\n"
     ]
    }
   ],
   "source": [
    "print(latlon_from_address('Sint Jozefsplein 13 3511 Stokrooie'))\n",
    "print(latlon_from_address('Coupure Links 497 9000 Gent'))\n",
    "print(latlon_from_address('Genkersteenweg 214 3500 Hasselt'))\n",
    "print(latlon_from_address('Kapucijnenstraat 44 8400 Oostende'))\n",
    "print(latlon_from_address('Dorpsstraat 30 9667 Sint-Maria-Horebeke'))\n"
   ]
  },
  {
   "cell_type": "code",
   "execution_count": 204,
   "metadata": {
    "collapsed": false
   },
   "outputs": [
    {
     "data": {
      "text/html": [
       "<div>\n",
       "<table border=\"1\" class=\"dataframe\">\n",
       "  <thead>\n",
       "    <tr style=\"text-align: right;\">\n",
       "      <th></th>\n",
       "      <th>city</th>\n",
       "      <th>name</th>\n",
       "      <th>street</th>\n",
       "      <th>tags</th>\n",
       "      <th>zipcode</th>\n",
       "      <th>full_address</th>\n",
       "      <th>latlon</th>\n",
       "      <th>missing</th>\n",
       "    </tr>\n",
       "  </thead>\n",
       "  <tbody>\n",
       "    <tr>\n",
       "      <th>240</th>\n",
       "      <td>Mechelen</td>\n",
       "      <td>Ellis Gourmet burger</td>\n",
       "      <td>Ijzerleen 10</td>\n",
       "      <td>[Eethuis]</td>\n",
       "      <td>2800</td>\n",
       "      <td>Ijzerleen 10 2800 Mechelen</td>\n",
       "      <td>None</td>\n",
       "      <td>True</td>\n",
       "    </tr>\n",
       "    <tr>\n",
       "      <th>243</th>\n",
       "      <td>Les Bulles - Nederland</td>\n",
       "      <td>Enig Alternatief</td>\n",
       "      <td>Wielakkerstraat 4</td>\n",
       "      <td>[Eethuis]</td>\n",
       "      <td>6811</td>\n",
       "      <td>Wielakkerstraat 4 6811 Les Bulles - Nederland</td>\n",
       "      <td>None</td>\n",
       "      <td>True</td>\n",
       "    </tr>\n",
       "    <tr>\n",
       "      <th>247</th>\n",
       "      <td>Elsene</td>\n",
       "      <td>Exki</td>\n",
       "      <td>Elsensesteenweg 12</td>\n",
       "      <td>[Snack]</td>\n",
       "      <td>1050</td>\n",
       "      <td>Elsensesteenweg 12 1050 Elsene</td>\n",
       "      <td>None</td>\n",
       "      <td>True</td>\n",
       "    </tr>\n",
       "    <tr>\n",
       "      <th>254</th>\n",
       "      <td>Gent</td>\n",
       "      <td>Fabula Rasa</td>\n",
       "      <td>Fr. Lousbergkaai 134</td>\n",
       "      <td>[Eethuis]</td>\n",
       "      <td>9000</td>\n",
       "      <td>Fr. Lousbergkaai 134 9000 Gent</td>\n",
       "      <td>None</td>\n",
       "      <td>True</td>\n",
       "    </tr>\n",
       "    <tr>\n",
       "      <th>259</th>\n",
       "      <td>Gent</td>\n",
       "      <td>Falafel Punt</td>\n",
       "      <td>Rooiegemlaan 389</td>\n",
       "      <td>[Eethuis, EVA voordeel, Veganvriendelijk]</td>\n",
       "      <td>9000</td>\n",
       "      <td>Rooiegemlaan 389 9000 Gent</td>\n",
       "      <td>None</td>\n",
       "      <td>True</td>\n",
       "    </tr>\n",
       "  </tbody>\n",
       "</table>\n",
       "</div>"
      ],
      "text/plain": [
       "                       city                  name                street  \\\n",
       "240                Mechelen  Ellis Gourmet burger          Ijzerleen 10   \n",
       "243  Les Bulles - Nederland      Enig Alternatief     Wielakkerstraat 4   \n",
       "247                  Elsene                  Exki    Elsensesteenweg 12   \n",
       "254                    Gent           Fabula Rasa  Fr. Lousbergkaai 134   \n",
       "259                    Gent          Falafel Punt      Rooiegemlaan 389   \n",
       "\n",
       "                                          tags zipcode  \\\n",
       "240                                  [Eethuis]    2800   \n",
       "243                                  [Eethuis]    6811   \n",
       "247                                    [Snack]    1050   \n",
       "254                                  [Eethuis]    9000   \n",
       "259  [Eethuis, EVA voordeel, Veganvriendelijk]    9000   \n",
       "\n",
       "                                      full_address latlon missing  \n",
       "240                     Ijzerleen 10 2800 Mechelen   None    True  \n",
       "243  Wielakkerstraat 4 6811 Les Bulles - Nederland   None    True  \n",
       "247                 Elsensesteenweg 12 1050 Elsene   None    True  \n",
       "254                 Fr. Lousbergkaai 134 9000 Gent   None    True  \n",
       "259                     Rooiegemlaan 389 9000 Gent   None    True  "
      ]
     },
     "execution_count": 204,
     "metadata": {},
     "output_type": "execute_result"
    }
   ],
   "source": [
    "df_notfound[30:35]"
   ]
  },
  {
   "cell_type": "code",
   "execution_count": null,
   "metadata": {
    "collapsed": true
   },
   "outputs": [],
   "source": []
  }
 ],
 "metadata": {
  "kernelspec": {
   "display_name": "Python 3",
   "language": "python",
   "name": "python3"
  },
  "language_info": {
   "codemirror_mode": {
    "name": "ipython",
    "version": 3
   },
   "file_extension": ".py",
   "mimetype": "text/x-python",
   "name": "python",
   "nbconvert_exporter": "python",
   "pygments_lexer": "ipython3",
   "version": "3.4.3"
  }
 },
 "nbformat": 4,
 "nbformat_minor": 0
}
