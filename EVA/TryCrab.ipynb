{
 "cells": [
  {
   "cell_type": "markdown",
   "metadata": {},
   "source": [
    "# Get requests to Flemish geolocation service\n",
    "\n",
    "https://docs.python.org/3.1/howto/urllib2.html"
   ]
  },
  {
   "cell_type": "code",
   "execution_count": 63,
   "metadata": {
    "collapsed": false
   },
   "outputs": [],
   "source": [
    "import urllib.request\n",
    "import urllib.parse\n",
    "import json"
   ]
  },
  {
   "cell_type": "markdown",
   "metadata": {},
   "source": [
    "### Details about api if of geopunt\n",
    "* http://loc.geopunt.be/Help/Api/GET-v2-Location_q_latlon_xy_capakey_poi_c\n",
    "\n",
    "* international, have a look here: http://www.latlong.net/"
   ]
  },
  {
   "cell_type": "code",
   "execution_count": 132,
   "metadata": {
    "collapsed": true
   },
   "outputs": [],
   "source": [
    "def latlon_from_address(address):\n",
    "      \n",
    "    url = 'http://loc.geopunt.be/v2/Location?'\n",
    "    \n",
    "    #strip spaces for more robustness\n",
    "    values = {'q' : address.strip()}\n",
    "    \n",
    "    data = urllib.parse.urlencode(values)\n",
    "\n",
    "    #get request is url + data\n",
    "    #for POST request you need data.encode('utf8') first and use binary_data as a second arg instead of a '+'\n",
    "    req = urllib.request.Request(url + data)\n",
    "    \n",
    "    req.add_header('Content-Type', 'text/json')\n",
    "    response = urllib.request.urlopen(req)\n",
    "    binary_response = response.read()\n",
    "    decoded = binary_response.decode('utf8')\n",
    "    \n",
    "    response.close()\n",
    "\n",
    "    jsonobj = json.loads(decoded)\n",
    "    \n",
    "    results = jsonobj['LocationResult']\n",
    "    \n",
    "    if len(results) == 0:\n",
    "        return None\n",
    "    \n",
    "    location = results[0]['Location']\n",
    "\n",
    "    latkeyID = 'Lat_WGS84'\n",
    "    lonkeyID = 'Lon_WGS84'\n",
    "    \n",
    "    return (location[latkeyID], location[lonkeyID])\n",
    "        \n"
   ]
  },
  {
   "cell_type": "code",
   "execution_count": 131,
   "metadata": {
    "collapsed": false
   },
   "outputs": [
    {
     "name": "stdout",
     "output_type": "stream",
     "text": [
      "(51.06302363494435, 3.38665410746602)\n"
     ]
    }
   ],
   "source": [
    "print(latlon_from_address('Ruiselede '))"
   ]
  },
  {
   "cell_type": "code",
   "execution_count": null,
   "metadata": {
    "collapsed": true
   },
   "outputs": [],
   "source": []
  }
 ],
 "metadata": {
  "kernelspec": {
   "display_name": "Python 3",
   "language": "python",
   "name": "python3"
  },
  "language_info": {
   "codemirror_mode": {
    "name": "ipython",
    "version": 3
   },
   "file_extension": ".py",
   "mimetype": "text/x-python",
   "name": "python",
   "nbconvert_exporter": "python",
   "pygments_lexer": "ipython3",
   "version": "3.4.3"
  }
 },
 "nbformat": 4,
 "nbformat_minor": 0
}
