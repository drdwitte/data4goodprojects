{
 "cells": [
  {
   "cell_type": "code",
   "execution_count": 26,
   "metadata": {
    "collapsed": true
   },
   "outputs": [],
   "source": [
    "from selenium import webdriver\n",
    "import time\n",
    "import json"
   ]
  },
  {
   "cell_type": "code",
   "execution_count": 27,
   "metadata": {
    "collapsed": false
   },
   "outputs": [],
   "source": [
    "url_eva = 'http://www.evavzw.be/resto'\n",
    "driver = webdriver.Firefox()\n",
    "driver.get(url_eva)\n"
   ]
  },
  {
   "cell_type": "code",
   "execution_count": null,
   "metadata": {
    "collapsed": false,
    "scrolled": true
   },
   "outputs": [],
   "source": [
    "restaurants = None\n",
    "restaurants = []\n",
    "number_of_pages = 83\n",
    "\n",
    "for i in range(0,number_of_pages-1):\n",
    "    print(i)\n",
    "    selections = driver.find_elements_by_class_name('node-restaurant')\n",
    "    for s in selections:\n",
    "        info = s.text.split('\\n')\n",
    "        if len(info)>2:\n",
    "            restaurant = (info[0],info[1],info[2][:4],info[2][4:], info[3:])\n",
    "        elif len(info)>=1:\n",
    "            restaurant = (info[0],None,None)\n",
    "        \n",
    "        restaurants.append(restaurant)\n",
    "    \n",
    "    selection = driver.find_element_by_class_name('pager-next')\n",
    "    selection.find_element_by_tag_name('a').click()\n",
    "    time.sleep(3)\n",
    "    \n",
    "                  \n",
    "driver.close()\n",
    "print(len(restaurants))    \n"
   ]
  },
  {
   "cell_type": "code",
   "execution_count": 29,
   "metadata": {
    "collapsed": false
   },
   "outputs": [
    {
     "data": {
      "text/plain": [
       "('Biesbemd',\n",
       " 'Kamstraat 33',\n",
       " '3040',\n",
       " 'Neerijse',\n",
       " ['Approved by EVA', 'EVA voordeel', 'Veganvriendelijk'])"
      ]
     },
     "execution_count": 29,
     "metadata": {},
     "output_type": "execute_result"
    }
   ],
   "source": [
    "restaurants[0]"
   ]
  },
  {
   "cell_type": "code",
   "execution_count": 45,
   "metadata": {
    "collapsed": false
   },
   "outputs": [
    {
     "name": "stdout",
     "output_type": "stream",
     "text": [
      "Bad record: ('Al Barmaki', None, None)\n",
      "Bad record: ('Bazilikum', None, None)\n",
      "Bad record: ('Tlemcen', None, None)\n",
      "{'Eethuis', 'EVA voordeel', '100% vegetarisch', 'Snack', 'Cateraar', 'Approved by EVA', 'Veganvriendelijk', '100% plantaardig', 'Gastronomisch'}\n"
     ]
    }
   ],
   "source": [
    "restaurant_objects = []\n",
    "tags = []\n",
    "for r in restaurants:\n",
    "    if len(r)!=5:\n",
    "        print('Bad record: ' + str(r))\n",
    "    else:\n",
    "        o = {'name':r[0], 'street':r[1], 'zipcode':r[2], 'city':r[3], 'tags':r[4]}\n",
    "        restaurant_objects.append(o)\n",
    "        #print(o)\n",
    "    \n",
    "        if r[4] is not None:\n",
    "            tags.extend(r[4])\n",
    "\n",
    "unique_tags = set(tags)\n",
    "print(unique_tags)"
   ]
  },
  {
   "cell_type": "code",
   "execution_count": 47,
   "metadata": {
    "collapsed": false
   },
   "outputs": [],
   "source": [
    "with open('EVA_restodata.json', 'w') as fp:\n",
    "    json.dump(restaurant_objects, fp, sort_keys=True, indent=4, separators=(',', ': '))"
   ]
  },
  {
   "cell_type": "code",
   "execution_count": 48,
   "metadata": {
    "collapsed": false
   },
   "outputs": [
    {
     "name": "stdout",
     "output_type": "stream",
     "text": [
      "[{'tag': 'Eethuis'}, {'tag': 'EVA voordeel'}, {'tag': '100% vegetarisch'}, {'tag': 'Snack'}, {'tag': 'Cateraar'}, {'tag': 'Approved by EVA'}, {'tag': 'Veganvriendelijk'}, {'tag': '100% plantaardig'}, {'tag': 'Gastronomisch'}]\n"
     ]
    }
   ],
   "source": [
    "tag_objects = []\n",
    "for  t in unique_tags:\n",
    "    tag_objects.append({\"tag\":t})\n",
    "    \n",
    "print(tag_objects)"
   ]
  },
  {
   "cell_type": "code",
   "execution_count": 49,
   "metadata": {
    "collapsed": true
   },
   "outputs": [],
   "source": [
    "with open('EVA_tags.json', 'w') as fp:\n",
    "    json.dump(tag_objects, fp, sort_keys=True, indent=4, separators=(',', ': '))"
   ]
  },
  {
   "cell_type": "code",
   "execution_count": null,
   "metadata": {
    "collapsed": true
   },
   "outputs": [],
   "source": []
  }
 ],
 "metadata": {
  "kernelspec": {
   "display_name": "Python 3",
   "language": "python",
   "name": "python3"
  },
  "language_info": {
   "codemirror_mode": {
    "name": "ipython",
    "version": 3
   },
   "file_extension": ".py",
   "mimetype": "text/x-python",
   "name": "python",
   "nbconvert_exporter": "python",
   "pygments_lexer": "ipython3",
   "version": "3.4.3"
  }
 },
 "nbformat": 4,
 "nbformat_minor": 0
}
